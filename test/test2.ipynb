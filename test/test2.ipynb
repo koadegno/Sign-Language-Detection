{
 "cells": [
  {
   "attachments": {},
   "cell_type": "markdown",
   "metadata": {},
   "source": [
    "# 1. Import Dependencies\n"
   ]
  },
  {
   "cell_type": "code",
   "execution_count": null,
   "metadata": {},
   "outputs": [],
   "source": [
    "!pip install mediapipe opencv-python matplotlib tensorflow"
   ]
  },
  {
   "cell_type": "code",
   "execution_count": null,
   "metadata": {},
   "outputs": [],
   "source": [
    "import cv2\n",
    "import numpy as np\n",
    "import os\n",
    "from matplotlib import pyplot as plt\n",
    "import time\n",
    "import mediapipe as mp\n"
   ]
  },
  {
   "attachments": {},
   "cell_type": "markdown",
   "metadata": {},
   "source": [
    "# 2. Keypoints using MP Holistic"
   ]
  },
  {
   "cell_type": "code",
   "execution_count": null,
   "metadata": {},
   "outputs": [],
   "source": [
    "mp_holistic = mp.solutions.holistic # Holistic model\n",
    "mp_drawing = mp.solutions.drawing_utils # drawing utilities"
   ]
  },
  {
   "cell_type": "code",
   "execution_count": null,
   "metadata": {},
   "outputs": [],
   "source": [
    "def mp_detection(image : np.ndarray, model):\n",
    "    \"\"\" \n",
    "        detect the landmark in the image \n",
    "        image : opencv frame\n",
    "        model : holistic model from mediapipe\n",
    "    \"\"\"\n",
    "    image = cv2.cvtColor(image, cv2.COLOR_BGR2RGB) # convert color of the image BGR -> RGB\n",
    "    image.flags.writeable = False # not writable\n",
    "    results = model.process(image) # detect the holistic \n",
    "    image.flags.writeable = True\n",
    "    image = cv2.cvtColor(image,cv2.COLOR_RGB2BGR) # RGB -> BGR\n",
    "    return image,results"
   ]
  },
  {
   "cell_type": "code",
   "execution_count": null,
   "metadata": {},
   "outputs": [],
   "source": [
    "def draw_styled_landmarks(image, results):\n",
    "    \"\"\"\n",
    "        image : opencv frame/ image\n",
    "        results : the results of the holistic model from mediapipe use the mp_detection to get the results \n",
    "    \"\"\"\n",
    "    try : \n",
    "        mp_drawing.draw_landmarks(image,results.face_landmarks, mp_holistic.FACE_CONNECTIONS,\n",
    "                                mp_drawing.DrawingSpec(color=(80,110,10), thickness=1, circle_radius=1),\n",
    "                                mp_drawing.DrawingSpec(color=(80,256,121), thickness=1, circle_radius=1)\n",
    "                                )\n",
    "    except Exception as e:\n",
    "        pass\n",
    "    try : \n",
    "        mp_drawing.draw_landmarks(image,results.pose_landmarks, mp_holistic.POSE_CONNECTIONS,\n",
    "                                mp_drawing.DrawingSpec(color=(80,22,10), thickness=2, circle_radius=4),\n",
    "                                mp_drawing.DrawingSpec(color=(80,44,121), thickness=2, circle_radius=2)\n",
    "                                )\n",
    "    except Exception as e:\n",
    "        pass\n",
    "    try : \n",
    "        mp_drawing.draw_landmarks(image,results.left_hand_landmarks, mp_holistic.HAND_CONNECTIONS,\n",
    "                                mp_drawing.DrawingSpec(color=(121,22,76), thickness=2, circle_radius=4),\n",
    "                                mp_drawing.DrawingSpec(color=(121,44,250), thickness=2, circle_radius=2)\n",
    "                                )\n",
    "    except Exception as e:\n",
    "        pass\n",
    "    try : \n",
    "        mp_drawing.draw_landmarks(image,results.right_hand_landmarks, mp_holistic.HAND_CONNECTIONS,\n",
    "                                mp_drawing.DrawingSpec(color=(245,117,66), thickness=2, circle_radius=4),\n",
    "                                mp_drawing.DrawingSpec(color=(245,66,230), thickness=2, circle_radius=2)\n",
    "                                )\n",
    "    except Exception as e:\n",
    "        pass"
   ]
  },
  {
   "cell_type": "code",
   "execution_count": null,
   "metadata": {},
   "outputs": [],
   "source": [
    "# test access to web cam \n",
    "\n",
    "cap = cv2.VideoCapture(0) # device 0\n",
    "\n",
    "# initialse detection confidence and then the confidence of tracking those detections\n",
    "with mp_holistic.Holistic(min_detection_confidence=0.5, min_tracking_confidence=0.5) as holistic_model:\n",
    "\n",
    "    while cap.isOpened():\n",
    "        ret, frame = cap.read() # read one fream at this point of time\n",
    "\n",
    "        # detection of the keypoint\n",
    "        image, resuts = mp_detection(frame,holistic_model)\n",
    "        \n",
    "\n",
    "        cv2.imshow(\"openCV feed cam\", frame) # window\n",
    "\n",
    "        if cv2.waitKey(10) & 0xFF == ord('q'): # wait a key is pressed and check current key is 'q'\n",
    "            break\n",
    "\n",
    "    #release ressources\n",
    "    cap.release()\n",
    "    cv2.destroyAllWindows()\n"
   ]
  },
  {
   "cell_type": "code",
   "execution_count": null,
   "metadata": {},
   "outputs": [],
   "source": [
    "draw_styled_landmarks(frame,resuts)\n",
    "plt.imshow(cv2.cvtColor(frame, cv2.COLOR_BGR2RGB))"
   ]
  },
  {
   "attachments": {},
   "cell_type": "markdown",
   "metadata": {},
   "source": [
    "### 2.1 Test reading Keypoint from downloaded video"
   ]
  },
  {
   "cell_type": "code",
   "execution_count": null,
   "metadata": {},
   "outputs": [],
   "source": [
    "# test access to video file\n",
    "\n",
    "cap = cv2.VideoCapture(r\"C:\\Users\\Kokou\\Documents\\Project\\Sign-Language-Detection\\data\\subset\\cont\\videos\\CLSFB - 01 ok\\CLSFBI0103A_S002_B.mp4\") # device 0\n",
    "\n",
    "# initialse detection confidence and then the confidence of tracking those detections\n",
    "with mp_holistic.Holistic(min_detection_confidence=0.5, min_tracking_confidence=0.5) as holistic_model:\n",
    "\n",
    "    while cap.isOpened():\n",
    "        ret, frame = cap.read() # read one fream at this point of time\n",
    "\n",
    "        # detection of the keypoint\n",
    "        image, results = mp_detection(frame,holistic_model)\n",
    "        draw_styled_landmarks(image,results)\n",
    "        \n",
    "\n",
    "        cv2.imshow(\"openCV feed cam\", image) # window\n",
    "\n",
    "        if cv2.waitKey(10) & 0xFF == ord('q'): # wait a key is pressed and check current key is 'q'\n",
    "            break\n",
    "\n",
    "    #release ressources\n",
    "    cap.release()\n",
    "    cv2.destroyAllWindows()\n",
    "\n"
   ]
  },
  {
   "cell_type": "code",
   "execution_count": null,
   "metadata": {},
   "outputs": [],
   "source": [
    "draw_styled_landmarks(frame,results)\n",
    "plt.imshow(cv2.cvtColor(frame, cv2.COLOR_BGR2RGB))"
   ]
  },
  {
   "attachments": {},
   "cell_type": "markdown",
   "metadata": {},
   "source": [
    "## 3. Extract Keyoint Values"
   ]
  },
  {
   "cell_type": "code",
   "execution_count": null,
   "metadata": {},
   "outputs": [],
   "source": [
    "def extract_keypoints(results):\n",
    "    \"\"\"\n",
    "    Extract all the keypoint from the results\n",
    "\n",
    "    \"\"\"\n",
    "    # if no landmark for the hand => zeros array => no hand in teh frame\n",
    "    # same idea for others part\n",
    "    pose = np.array([[res.x,res.y,res.z,res.visibility]  for res in results.pose_landmarks.landmark ]).flatten() if results.pose_landmarks else np.zeros(33*4)\n",
    "    face  = np.array([[res.x,res.y,res.z]  for res in results.face_landmarks.landmark ]).flatten() if results.face_landmarks else np.zeros(468*3)\n",
    "    left_hand = np.array([[res.x,res.y,res.z]  for res in results.left_hand_landmarks.landmark ]).flatten() if results.left_hand_landmarks else np.zeros(21*3)\n",
    "    right_hand = np.array([[res.x,res.y,res.z]  for res in results.right_hand_landmarks.landmark ]).flatten() if results.right_hand_landmarks else np.zeros(21*3)\n",
    "    return np.concatenate([pose, face, left_hand, right_hand])\n"
   ]
  },
  {
   "cell_type": "code",
   "execution_count": null,
   "metadata": {},
   "outputs": [],
   "source": [
    "\n",
    "extract_keypoints(results).shape == (468*3+33*4+21*3*2,)"
   ]
  },
  {
   "attachments": {},
   "cell_type": "markdown",
   "metadata": {},
   "source": [
    "## 4. Setup Folders for collection"
   ]
  },
  {
   "cell_type": "code",
   "execution_count": null,
   "metadata": {},
   "outputs": [],
   "source": [
    "# Using the keypoint to decode tghe sign language \n",
    "# set up folder to store keypoint associeted to a frame\n",
    "\n",
    "DATA_PATH = os.path.join(\"MP_Data\") # path for the data -> numpy arrays\n",
    "\n",
    "actions = np.array(['aussi', 'oui', 'quoi']) # actions that we try to detect\n",
    "no_sequences = 100 # 30 videos of data for each actions\n",
    "sequence_length = 20 # 30 frames in length\n",
    "\n",
    "# we collect 30 videos per action the each videos contains 30 frames of data \n",
    "# and each frame contains 1662 landmark values (3*30 sequences, 30 frames, 1662 landmark)\n"
   ]
  },
  {
   "cell_type": "code",
   "execution_count": null,
   "metadata": {},
   "outputs": [],
   "source": [
    "# create a folder for each action containing a folder for each fequence\n",
    "for action in actions:\n",
    "    for seq in range(no_sequences):\n",
    "        try:\n",
    "            os.makedirs(os.path.join(DATA_PATH,action,str(seq)))\n",
    "        except OSError as e:\n",
    "            os.rmdir(os.path.join(DATA_PATH,action,str(seq)))\n",
    "            try:\n",
    "                os.makedirs(os.path.join(DATA_PATH,action,str(seq)))\n",
    "            except:\n",
    "                pass"
   ]
  },
  {
   "attachments": {},
   "cell_type": "markdown",
   "metadata": {},
   "source": [
    "## 5.  Collect Keypoint Values for testing and training"
   ]
  },
  {
   "cell_type": "code",
   "execution_count": null,
   "metadata": {},
   "outputs": [],
   "source": [
    "def visio_function():\n",
    "        # test access to video file\n",
    "\n",
    "    cap = cv2.VideoCapture(0) # device 0\n",
    "\n",
    "    # initialse detection confidence and then the confidence of tracking those detections\n",
    "    with mp_holistic.Holistic(min_detection_confidence=0.5, min_tracking_confidence=0.5) as holistic_model:\n",
    "\n",
    "        for action in actions:\n",
    "            for sequence in range(no_sequences):\n",
    "                for frame_num in range(sequence_length):\n",
    "                        \n",
    "                    ret, frame = cap.read() # read one fream at this point of time\n",
    "\n",
    "                    # detection of the keypoint\n",
    "                    image, results = mp_detection(frame,holistic_model)\n",
    "                    draw_styled_landmarks(image,results)\n",
    "                    \n",
    "                    if frame_num == 0:\n",
    "                        cv2.putText(image, \"STARTING COLLECTION\", (120,200), cv2.FONT_HERSHEY_SIMPLEX,1,(0,255,0),4,cv2.LINE_AA)\n",
    "                        cv2.putText(image, f\"Collection frames for {action} video Number {sequence}\", (15,12), cv2.FONT_HERSHEY_SIMPLEX,0.5,(0,0,255),1,cv2.LINE_AA)\n",
    "                        cv2.imshow(\"openCV feed cam\", image) # window\n",
    "                        \n",
    "                        cv2.waitKey(2000)\n",
    "                    else:\n",
    "                        cv2.putText(image, f\"Collection frames for {action} video Number {sequence}\", (15,12), cv2.FONT_HERSHEY_SIMPLEX,0.5,(0,0,255),1,cv2.LINE_AA)\n",
    "\n",
    "                        cv2.imshow(\"openCV feed cam\", image) # window\n",
    "                    \n",
    "                    #save keypoint in file\n",
    "                    keypoint = extract_keypoints(results)\n",
    "                    np_file_path = os.path.join(DATA_PATH,action,str(sequence), str(frame_num))\n",
    "                    np.save(np_file_path,keypoint)\n",
    "\n",
    "                    if cv2.waitKey(10) & 0xFF == ord('q'): # wait a key is pressed and check current key is 'q'\n",
    "                        break\n",
    "\n",
    "            #release ressources\n",
    "            cap.release()\n",
    "            cv2.destroyAllWindows()\n",
    "\n"
   ]
  },
  {
   "cell_type": "code",
   "execution_count": null,
   "metadata": {},
   "outputs": [],
   "source": [
    "#Read video files downloaded (isol files) and get the landmark associeted \n",
    "BASE_PATH = \"./../data/subset/isol/videos/\"\n",
    "\n",
    "# initialse detection confidence and then the confidence of tracking those detections\n",
    "with mp_holistic.Holistic(min_detection_confidence=0.5, min_tracking_confidence=0.5) as holistic_model:\n",
    "\n",
    "    for action in actions:\n",
    "        video_files = os.listdir(os.path.join(BASE_PATH,\"_\"+str(action).upper()+\"_\"))\n",
    "        sequence = 0\n",
    "        #loop through videos aka sequences\n",
    "        while sequence != no_sequences:\n",
    "            file = os.path.join(BASE_PATH,\"_\"+str(action).upper()+\"_\",video_files[sequence])\n",
    "            cap = cv2.VideoCapture(file) # device 0\n",
    "\n",
    "            for frame_num in range(sequence_length):\n",
    "                    \n",
    "                ret, frame = cap.read() # read one fream at this point of time\n",
    "\n",
    "                # detection of the keypoint\n",
    "                if not (frame is None) : # save the last keypoint if the nb of frame is lower than sequence length\n",
    "                    image, results = mp_detection(frame,holistic_model)\n",
    "                    draw_styled_landmarks(image,results)\n",
    "                    # cv2.putText(image, f\"Collection frames for {action} video Number {sequence}\", (15,12), cv2.FONT_HERSHEY_SIMPLEX,0.5,(0,0,255),1,cv2.LINE_AA)\n",
    "                    # cv2.imshow(\"openCV feed\", image) # window\n",
    "                \n",
    "                #save keypoint in file\n",
    "                keypoints = extract_keypoints(results)\n",
    "                if keypoints.shape != (1662,): #debug\n",
    "                    print(keypoints.shape)\n",
    "                np_file_path = os.path.join(DATA_PATH,action,str(sequence), str(frame_num))\n",
    "                np.save(np_file_path,keypoints)\n",
    "\n",
    "                if cv2.waitKey(10) & 0xFF == ord('q'): # wait a key is pressed and check current key is 'q'\n",
    "                    break\n",
    "            sequence +=1 # next file\n",
    "\n",
    "    #release ressources\n",
    "    cap.release()\n",
    "    cv2.destroyAllWindows()\n",
    "\n"
   ]
  },
  {
   "cell_type": "code",
   "execution_count": null,
   "metadata": {},
   "outputs": [],
   "source": [
    "cap.release()\n",
    "cv2.destroyAllWindows()"
   ]
  },
  {
   "attachments": {},
   "cell_type": "markdown",
   "metadata": {},
   "source": [
    "## 6. Preprocess Data and creeate Labels and features"
   ]
  },
  {
   "cell_type": "code",
   "execution_count": null,
   "metadata": {},
   "outputs": [],
   "source": [
    "from sklearn.model_selection import train_test_split\n",
    "from tensorflow.keras.utils import to_categorical #convert data into one hot encoded data"
   ]
  },
  {
   "cell_type": "code",
   "execution_count": null,
   "metadata": {},
   "outputs": [],
   "source": [
    "label_map = {label:num for num,label in enumerate(actions)}\n",
    "sequences = [] # represent the feature data X\n",
    "labels = [] # represente the Y data\n",
    "\n",
    "for action in actions:\n",
    "    for sequence in range(no_sequences):\n",
    "        window = []\n",
    "        subfolder = os.path.join(DATA_PATH,action,str(sequence))\n",
    "        for frame_num in range(sequence_length):\n",
    "            res = np.load(os.path.join(subfolder, f\"{frame_num}.npy\"))\n",
    "            window.append(res)\n",
    "            \n",
    "            if res.shape != (1662,): #debug\n",
    "                print(res.shape)\n",
    "        sequences.append(window) # containt 90 differente video 3 words * 30 videos\n",
    "        labels.append(label_map[action])\n",
    "\n"
   ]
  },
  {
   "cell_type": "code",
   "execution_count": null,
   "metadata": {},
   "outputs": [],
   "source": [
    "np.array(sequences).shape"
   ]
  },
  {
   "cell_type": "code",
   "execution_count": null,
   "metadata": {},
   "outputs": [],
   "source": [
    "X = np.array(sequences)\n",
    "y = to_categorical(labels).astype(int) # convert label to binary version"
   ]
  },
  {
   "cell_type": "code",
   "execution_count": null,
   "metadata": {},
   "outputs": [],
   "source": [
    "X_train, X_test, y_train, y_test, = train_test_split(X,y,test_size=0.05)"
   ]
  },
  {
   "cell_type": "code",
   "execution_count": null,
   "metadata": {},
   "outputs": [],
   "source": [
    "y_train.shape"
   ]
  },
  {
   "attachments": {},
   "cell_type": "markdown",
   "metadata": {},
   "source": [
    "## 7. Build and Train LSTM Neural Network"
   ]
  },
  {
   "cell_type": "code",
   "execution_count": null,
   "metadata": {},
   "outputs": [],
   "source": [
    "from tensorflow.keras.models import Sequential\n",
    "from tensorflow.keras.layers import LSTM,Dense\n",
    "from tensorflow.keras.callbacks import TensorBoard"
   ]
  },
  {
   "cell_type": "code",
   "execution_count": null,
   "metadata": {},
   "outputs": [],
   "source": [
    "# tensorBoard logs\n",
    "log_dir = os.path.join(\"Logs\")\n",
    "tb_callback = TensorBoard(log_dir=log_dir)"
   ]
  },
  {
   "cell_type": "code",
   "execution_count": null,
   "metadata": {},
   "outputs": [],
   "source": [
    "model = Sequential()\n",
    "model.add(LSTM(64, return_sequences=True,activation='relu', input_shape=(sequence_length,1662)))\n",
    "model.add(LSTM(128, return_sequences=True,activation='relu'))\n",
    "model.add(LSTM(64, return_sequences=False,activation='relu'))\n",
    "model.add(Dense(64, activation='relu'))\n",
    "model.add(Dense(32, activation='relu'))\n",
    "model.add(Dense(actions.shape[0], activation='softmax'))\n"
   ]
  },
  {
   "cell_type": "code",
   "execution_count": null,
   "metadata": {},
   "outputs": [],
   "source": [
    "# categorical_crossentropy => for multi-class classification model\n",
    "# metrics => allow to track the accuracy \n",
    "model.compile(optimizer='Adam',loss='categorical_crossentropy',metrics=['categorical_accuracy'])"
   ]
  },
  {
   "cell_type": "code",
   "execution_count": null,
   "metadata": {},
   "outputs": [],
   "source": [
    "model.summary()"
   ]
  },
  {
   "cell_type": "code",
   "execution_count": null,
   "metadata": {},
   "outputs": [],
   "source": [
    "model.fit(X_train,y_train,epochs=2000,callbacks=[tb_callback])\n",
    "# 2000 epoch may be a bit high for training with a low amount of data\n",
    "# stop the training if accuracy is acceptable and loss has stoppped consistently decreasing "
   ]
  },
  {
   "attachments": {},
   "cell_type": "markdown",
   "metadata": {},
   "source": [
    "## 8. Make Prediction"
   ]
  },
  {
   "cell_type": "code",
   "execution_count": null,
   "metadata": {},
   "outputs": [],
   "source": [
    "res = model.predict(X_test)\n",
    "actions[np.argmax(res[0])]"
   ]
  },
  {
   "cell_type": "code",
   "execution_count": null,
   "metadata": {},
   "outputs": [],
   "source": [
    "actions[np.argmax(y_test[0])]"
   ]
  },
  {
   "cell_type": "code",
   "execution_count": null,
   "metadata": {},
   "outputs": [],
   "source": [
    "model.save('action.h1')\n",
    "model.load_weights('action.h1')"
   ]
  },
  {
   "attachments": {},
   "cell_type": "markdown",
   "metadata": {},
   "source": [
    "## 9. Evaluation and accuracy"
   ]
  },
  {
   "cell_type": "code",
   "execution_count": null,
   "metadata": {},
   "outputs": [],
   "source": [
    "from sklearn.metrics import multilabel_confusion_matrix,accuracy_score\n",
    "\n",
    "yhat = model.predict(X_test)\n",
    "ytrue = np.argmax(y_test,axis=1).tolist()\n",
    "yhat = np.argmax(yhat,axis=1).tolist()\n",
    "multilabel_confusion_matrix(ytrue,yhat)"
   ]
  },
  {
   "cell_type": "code",
   "execution_count": null,
   "metadata": {},
   "outputs": [],
   "source": [
    "accuracy_score(ytrue,yhat)"
   ]
  },
  {
   "attachments": {},
   "cell_type": "markdown",
   "metadata": {},
   "source": [
    "## 10. Test in Real Time"
   ]
  },
  {
   "cell_type": "code",
   "execution_count": null,
   "metadata": {},
   "outputs": [],
   "source": [
    "\n",
    "colors = [(245,117,16), (117,245,16), (16,117,245)]\n",
    "def prob_viz(res, actions, input_frame, colors):\n",
    "    \"\"\"\n",
    "    probability for each of the three words\n",
    "    \"\"\"\n",
    "\n",
    "    output_frame = input_frame.copy()\n",
    "    for num, prob in enumerate(res):\n",
    "        cv2.rectangle(output_frame, (0,60+num*40), (int(prob*100), 90+num*40), colors[num], -1)\n",
    "        cv2.putText(output_frame, actions[num], (0, 85+num*40), cv2.FONT_HERSHEY_SIMPLEX, 1, (255,255,255), 2, cv2.LINE_AA)\n",
    "        \n",
    "    return output_frame\n",
    "\n"
   ]
  },
  {
   "cell_type": "code",
   "execution_count": null,
   "metadata": {},
   "outputs": [],
   "source": [
    "sequence = []\n",
    "sentence = []\n",
    "threshold = 0.4 # threshold to accept a sign\n",
    "\n",
    "cap = cv2.VideoCapture(0) # device 0\n",
    "\n",
    "# initialse detection confidence and then the confidence of tracking those detections\n",
    "with mp_holistic.Holistic(min_detection_confidence=0.5, min_tracking_confidence=0.5) as holistic_model:\n",
    "\n",
    "    while cap.isOpened():\n",
    "            \n",
    "        ret, frame = cap.read() # read one fream at this point of time\n",
    "\n",
    "        # detection of the keypoint\n",
    "        image, results = mp_detection(frame,holistic_model)\n",
    "        draw_styled_landmarks(image,results)\n",
    "        \n",
    "        # prediction using LSTM model\n",
    "        keypoints = extract_keypoints(results)\n",
    "        sequence.append(keypoints)\n",
    "        sequence = sequence[-30:]\n",
    "\n",
    "        if len(sequence) == 30:\n",
    "            res = model.predict(np.expand_dims(sequence,axis=0))[0]\n",
    "            print(actions[np.argmax(res)])\n",
    "            \n",
    "            if res[np.argmax(res)] > threshold: \n",
    "                if len(sentence) > 0: \n",
    "                    if actions[np.argmax(res)] != sentence[-1]: # add to sentences only differente word\n",
    "                        sentence.append(actions[np.argmax(res)])\n",
    "                else:\n",
    "                    sentence.append(actions[np.argmax(res)])\n",
    "\n",
    "            if len(sentence) > 5: \n",
    "                sentence = sentence[-5:]\n",
    "\n",
    "            # Viz probabilities\n",
    "            image = prob_viz(res, actions, image, colors)\n",
    "            \n",
    "        cv2.rectangle(image, (0,0), (640, 40), (245, 117, 16), -1)\n",
    "        cv2.putText(image, ' '.join(sentence), (3,30), \n",
    "                       cv2.FONT_HERSHEY_SIMPLEX, 1, (255, 255, 255), 2, cv2.LINE_AA)\n",
    "\n",
    "\n",
    "        #save keypoint in file\n",
    "        cv2.imshow(\"openCV feed cam\", image) # window\n",
    "        \n",
    "        if cv2.waitKey(10) & 0xFF == ord('q'): # wait a key is pressed and check current key is 'q'\n",
    "            break\n",
    "\n",
    "    #release ressources\n",
    "    cap.release()\n",
    "    cv2.destroyAllWindows()\n",
    "\n"
   ]
  }
 ],
 "metadata": {
  "kernelspec": {
   "display_name": "venv",
   "language": "python",
   "name": "python3"
  },
  "language_info": {
   "codemirror_mode": {
    "name": "ipython",
    "version": 3
   },
   "file_extension": ".py",
   "mimetype": "text/x-python",
   "name": "python",
   "nbconvert_exporter": "python",
   "pygments_lexer": "ipython3",
   "version": "3.10.9"
  },
  "orig_nbformat": 4,
  "vscode": {
   "interpreter": {
    "hash": "2b488b087fd2d6c224ed9403136f88d253fcfd08fe54704902d6917a74208f16"
   }
  }
 },
 "nbformat": 4,
 "nbformat_minor": 2
}
